{
 "cells": [
  {
   "cell_type": "markdown",
   "metadata": {},
   "source": [
    "# Adversarial Attack on Deep Networks\n",
    "In this question, we will implement fast gradient sign attack (FGSM) on a pre-trained convolution network with very high accuracy on the MNIST dataset. This reveals the striking lack of robustness present in deep networks. FGSM was first introduced by Goodfellow et al. in 2014. Check out their paper: [Explaining and harnessing adversarial examples](https://arxiv.org/pdf/1412.6572.pdf)."
   ]
  },
  {
   "cell_type": "code",
   "execution_count": 1,
   "metadata": {},
   "outputs": [],
   "source": [
    "import logging\n",
    "import numpy as np\n",
    "import tensorflow as tf\n",
    "#from PIL import Image\n",
    "import matplotlib.pyplot as plt\n",
    "%matplotlib inline\n",
    "import os"
   ]
  },
  {
   "cell_type": "markdown",
   "metadata": {},
   "source": [
    "# Step 1: Read in data\n"
   ]
  },
  {
   "cell_type": "code",
   "execution_count": 2,
   "metadata": {},
   "outputs": [
    {
     "name": "stdout",
     "output_type": "stream",
     "text": [
      "WARNING:tensorflow:From <ipython-input-2-5202d9daa8bb>:3: read_data_sets (from tensorflow.contrib.learn.python.learn.datasets.mnist) is deprecated and will be removed in a future version.\n",
      "Instructions for updating:\n",
      "Please use alternatives such as official/mnist/dataset.py from tensorflow/models.\n",
      "WARNING:tensorflow:From /anaconda3/envs/env1/lib/python3.7/site-packages/tensorflow/contrib/learn/python/learn/datasets/mnist.py:260: maybe_download (from tensorflow.contrib.learn.python.learn.datasets.base) is deprecated and will be removed in a future version.\n",
      "Instructions for updating:\n",
      "Please write your own downloading logic.\n",
      "WARNING:tensorflow:From /anaconda3/envs/env1/lib/python3.7/site-packages/tensorflow/contrib/learn/python/learn/datasets/mnist.py:262: extract_images (from tensorflow.contrib.learn.python.learn.datasets.mnist) is deprecated and will be removed in a future version.\n",
      "Instructions for updating:\n",
      "Please use tf.data to implement this functionality.\n",
      "Extracting MNIST_data/train-images-idx3-ubyte.gz\n",
      "WARNING:tensorflow:From /anaconda3/envs/env1/lib/python3.7/site-packages/tensorflow/contrib/learn/python/learn/datasets/mnist.py:267: extract_labels (from tensorflow.contrib.learn.python.learn.datasets.mnist) is deprecated and will be removed in a future version.\n",
      "Instructions for updating:\n",
      "Please use tf.data to implement this functionality.\n",
      "Extracting MNIST_data/train-labels-idx1-ubyte.gz\n",
      "WARNING:tensorflow:From /anaconda3/envs/env1/lib/python3.7/site-packages/tensorflow/contrib/learn/python/learn/datasets/mnist.py:110: dense_to_one_hot (from tensorflow.contrib.learn.python.learn.datasets.mnist) is deprecated and will be removed in a future version.\n",
      "Instructions for updating:\n",
      "Please use tf.one_hot on tensors.\n",
      "Extracting MNIST_data/t10k-images-idx3-ubyte.gz\n",
      "Extracting MNIST_data/t10k-labels-idx1-ubyte.gz\n",
      "WARNING:tensorflow:From /anaconda3/envs/env1/lib/python3.7/site-packages/tensorflow/contrib/learn/python/learn/datasets/mnist.py:290: DataSet.__init__ (from tensorflow.contrib.learn.python.learn.datasets.mnist) is deprecated and will be removed in a future version.\n",
      "Instructions for updating:\n",
      "Please use alternatives such as official/mnist/dataset.py from tensorflow/models.\n"
     ]
    }
   ],
   "source": [
    "from tensorflow.examples.tutorials.mnist import input_data\n",
    "datadir='MNIST_data'\n",
    "mnist = input_data.read_data_sets(datadir, one_hot=True, reshape=False)\n",
    "\n",
    "#get MNIST test set\n",
    "X_test = mnist.test.images\n",
    "Y_test = mnist.test.labels\n"
   ]
  },
  {
   "cell_type": "code",
   "execution_count": 3,
   "metadata": {},
   "outputs": [
    {
     "data": {
      "text/plain": [
       "(10000, 10)"
      ]
     },
     "execution_count": 3,
     "metadata": {},
     "output_type": "execute_result"
    }
   ],
   "source": [
    "Y_test.shape #confirm Y is in one-hot format"
   ]
  },
  {
   "cell_type": "markdown",
   "metadata": {},
   "source": [
    "# Step 2: Load model\n",
    "Loading a pre-learned model in tensorflow is simple. We need to first load the meta data which is the computation graph. Then, load the weights. Why do we need `tf.Session()` to load a model? Remember that the model variables have no value without the session!"
   ]
  },
  {
   "cell_type": "code",
   "execution_count": 4,
   "metadata": {},
   "outputs": [
    {
     "name": "stdout",
     "output_type": "stream",
     "text": [
      "WARNING:tensorflow:From /anaconda3/envs/env1/lib/python3.7/site-packages/tensorflow/python/training/saver.py:1266: checkpoint_exists (from tensorflow.python.training.checkpoint_management) is deprecated and will be removed in a future version.\n",
      "Instructions for updating:\n",
      "Use standard file APIs to check for files with this prefix.\n",
      "INFO:tensorflow:Restoring parameters from MNIST_model/model_Q3\n"
     ]
    }
   ],
   "source": [
    "sess = tf.Session()\n",
    "# load the computation graph\n",
    "saver = tf.train.import_meta_graph('MNIST_model/model_Q3.meta')\n",
    "# load the weights\n",
    "saver.restore(sess, 'MNIST_model/model_Q3')"
   ]
  },
  {
   "cell_type": "markdown",
   "metadata": {},
   "source": [
    "# Step 2.1 (optional): Visualize the model with Tensorboard\n",
    "[Tensorboard](https://www.tensorflow.org/get_started/summaries_and_tensorboard) is a visualization tool that comes with tensorflow. Here, we use it to visualize the model that you just loaded.\n",
    "\n",
    "To start tensorboard, \n",
    "\n",
    "- Open a Terminal and navigate to the root directory of the assignment. \n",
    "- Type `tensorboard --logdir=MNIST_model/`. The server will be launched in the terminal and a url will be displayed.\n",
    "- Open the url in a browser and click the Graph tab. You should see the model that you just loaded. How many convolution layers does it have?"
   ]
  },
  {
   "cell_type": "markdown",
   "metadata": {},
   "source": [
    "# Step 2.5: Get tensors from the model"
   ]
  },
  {
   "cell_type": "code",
   "execution_count": 5,
   "metadata": {},
   "outputs": [],
   "source": [
    "#load the variables from the pre-trained model so we can use them\n",
    "graph = tf.get_default_graph()\n",
    "x = graph.get_tensor_by_name('x:0')\n",
    "y = graph.get_tensor_by_name('y:0')\n",
    "logits = graph.get_tensor_by_name('fc_1/logits:0')\n",
    "probs = graph.get_tensor_by_name('probs:0')\n",
    "cross_entropy = graph.get_tensor_by_name('cross_entropy:0')\n",
    "accuracy = graph.get_tensor_by_name('accuracy:0')\n",
    "preds_label = graph.get_tensor_by_name('preds_label:0')"
   ]
  },
  {
   "cell_type": "code",
   "execution_count": 6,
   "metadata": {},
   "outputs": [],
   "source": [
    "import os\n",
    "os.environ['KMP_DUPLICATE_LIB_OK']='True'"
   ]
  },
  {
   "cell_type": "code",
   "execution_count": 7,
   "metadata": {},
   "outputs": [
    {
     "name": "stdout",
     "output_type": "stream",
     "text": [
      "test accuracy 0.9905999898910522\n"
     ]
    }
   ],
   "source": [
    "# sanity check: the test accuracy for this model should be over .99\n",
    "print('test accuracy {}'.format(sess.run(accuracy, feed_dict={\n",
    "    x: X_test, y: Y_test})))"
   ]
  },
  {
   "cell_type": "code",
   "execution_count": 8,
   "metadata": {},
   "outputs": [
    {
     "data": {
      "image/png": "[encoded data removed]",
      "text/plain": [
       "<Figure size 900x360 with 10 Axes>"
      ]
     },
     "metadata": {},
     "output_type": "display_data"
    }
   ],
   "source": [
    "# Plot the first 10 images in the test set on a 2-by-5 grid of subplots, together with their\n",
    "# true labels and the ones predicted by the pre-trained network.\n",
    "\n",
    "preds,logits_ = sess.run([preds_label, logits], feed_dict={x: X_test, y: Y_test})\n",
    "\n",
    "nrows = 2\n",
    "ncols = 5\n",
    "fig, axes = plt.subplots(nrows,ncols,figsize=(ncols*2.5,nrows*2.5)) #get a new fig and subplot axes\n",
    "fig.subplots_adjust(wspace=.5) #adjust horizontal spacing between subplots\n",
    "\n",
    "for row in range(nrows):\n",
    "    for col in range(ncols):\n",
    "        ax = axes[row,col] #get the axis for the current subplot\n",
    "        img_index = row*ncols + col\n",
    "        img = X_test[img_index].squeeze() #squeeze: get rid of img's third dimension, since grayscale\n",
    "        true_label = Y_test[img_index].argmax() #argmax: convert from one-hot into class label\n",
    "        pred_label = preds[img_index]\n",
    "        ax.imshow(img, cmap='gray', interpolation='nearest')\n",
    "        ax.set_title('Pred.: {} (true: {})'.format(pred_label, true_label))\n",
    "        ax.set_xticks([]); ax.set_yticks([])\n"
   ]
  },
  {
   "cell_type": "markdown",
   "metadata": {},
   "source": [
    "# Step 3: Get the output label for the raw image."
   ]
  },
  {
   "cell_type": "code",
   "execution_count": 9,
   "metadata": {},
   "outputs": [
    {
     "name": "stdout",
     "output_type": "stream",
     "text": [
      "WARNING:tensorflow:From <ipython-input-9-4d27af080272>:3: to_float (from tensorflow.python.ops.math_ops) is deprecated and will be removed in a future version.\n",
      "Instructions for updating:\n",
      "Use tf.cast instead.\n"
     ]
    }
   ],
   "source": [
    "#we need the model predictions in one-hot format\n",
    "logit_max = tf.reduce_max(logits, axis=1, keepdims=True) #max val of each logit vector\n",
    "model_predict = tf.to_float(tf.equal(logits, logit_max)) #convert probs into 0s or 1s"
   ]
  },
  {
   "cell_type": "markdown",
   "metadata": {},
   "source": [
    "# Step 4: calculate the cross entropy loss \n",
    "Use `model_predict` as your y labels.\n",
    "\n",
    "HINT: This time, do not use `tf.reduce_mean`. Why?"
   ]
  },
  {
   "cell_type": "code",
   "execution_count": 10,
   "metadata": {},
   "outputs": [
    {
     "name": "stdout",
     "output_type": "stream",
     "text": [
      "WARNING:tensorflow:From <ipython-input-10-59e596a9f8e3>:1: softmax_cross_entropy_with_logits (from tensorflow.python.ops.nn_ops) is deprecated and will be removed in a future version.\n",
      "Instructions for updating:\n",
      "\n",
      "Future major versions of TensorFlow will allow gradients to flow\n",
      "into the labels input on backprop by default.\n",
      "\n",
      "See `tf.nn.softmax_cross_entropy_with_logits_v2`.\n",
      "\n"
     ]
    }
   ],
   "source": [
    "loss = tf.nn.softmax_cross_entropy_with_logits(logits=logits, labels=model_predict)"
   ]
  },
  {
   "cell_type": "markdown",
   "metadata": {},
   "source": [
    "# Step 5: Gradient of the loss w.r.t. x\n",
    "The loss function is a function of the input image x. \n",
    "We want to calculate the gradient of the loss with respect to x.\n",
    "\n",
    "HINT: use `tf.gradients`"
   ]
  },
  {
   "cell_type": "code",
   "execution_count": 11,
   "metadata": {},
   "outputs": [],
   "source": [
    "grad = tf.gradients(loss, x)[0] #take the first entry in the list (corresp. to first and only image)"
   ]
  },
  {
   "cell_type": "code",
   "execution_count": 12,
   "metadata": {},
   "outputs": [
    {
     "data": {
      "text/plain": [
       "TensorShape([Dimension(None), Dimension(28), Dimension(28), Dimension(1)])"
      ]
     },
     "execution_count": 12,
     "metadata": {},
     "output_type": "execute_result"
    }
   ],
   "source": [
    "grad.shape #check the dimensions: we have one grad val for each pixel"
   ]
  },
  {
   "cell_type": "markdown",
   "metadata": {},
   "source": [
    "# Step 6: Get the sign of the gradient\n",
    "We are using a very simple strategy for the noise, which is a fixed scalar with the same sign as the gradient. When we add it to the images, this amounts to doing gradient __ascent__ on the loss!"
   ]
  },
  {
   "cell_type": "code",
   "execution_count": 13,
   "metadata": {},
   "outputs": [],
   "source": [
    "grad_sign = tf.sign(grad)"
   ]
  },
  {
   "cell_type": "markdown",
   "metadata": {},
   "source": [
    "# Step 7: Rescale grad_sign"
   ]
  },
  {
   "cell_type": "code",
   "execution_count": 14,
   "metadata": {},
   "outputs": [],
   "source": [
    "eps = 0.3 #scale it so the change to x is small\n",
    "scaled_grad = eps * grad_sign"
   ]
  },
  {
   "cell_type": "markdown",
   "metadata": {},
   "source": [
    "# Step 8: Perturb the raw image\n",
    "\n",
    "Add `scaled_grad` to `x` and let the result be `adv_x` (`adv_x` is the adversarial image)."
   ]
  },
  {
   "cell_type": "code",
   "execution_count": 15,
   "metadata": {},
   "outputs": [],
   "source": [
    "# TODO\n",
    "adv_x = scaled_grad + x"
   ]
  },
  {
   "cell_type": "markdown",
   "metadata": {},
   "source": [
    "# Step 9: Clip adv_x\n",
    "Clip the value of `adv_x` so that the values are between 0 and 1 (this guarantees the pixels are within the 0-1 range needed for an image).\n",
    "\n",
    "HINT: use `tf.clip_by_value`"
   ]
  },
  {
   "cell_type": "code",
   "execution_count": 16,
   "metadata": {},
   "outputs": [
    {
     "name": "stdout",
     "output_type": "stream",
     "text": [
      "Tensor(\"clip_by_value:0\", shape=(?, 28, 28, 1), dtype=float32)\n"
     ]
    }
   ],
   "source": [
    "# TODO\n",
    "adv_x = tf.clip_by_value(adv_x,0,1)\n",
    "print(adv_x)"
   ]
  },
  {
   "cell_type": "markdown",
   "metadata": {},
   "source": [
    "# Step 10: Generate adversarial images \n",
    "Store them as `adv_x_images`."
   ]
  },
  {
   "cell_type": "code",
   "execution_count": 18,
   "metadata": {},
   "outputs": [
    {
     "name": "stdout",
     "output_type": "stream",
     "text": [
      "0 1 2 3 4 5 6 7 8 9 "
     ]
    }
   ],
   "source": [
    "adv_images = None\n",
    "nBatches = 10\n",
    "for idx in range(nBatches):\n",
    "    print(idx,end=' ')\n",
    "    #take 1000 images at a time to do this in batches\n",
    "    first, last = 1000 * idx, 1000 * (idx + 1)\n",
    "    \n",
    "    adv_images_batch = sess.run(adv_x, feed_dict={\n",
    "        x: X_test[first:last, ...], y: Y_test[first:last]})\n",
    "    \n",
    "    if adv_images is not None:\n",
    "        adv_images = np.concatenate([adv_images, adv_images_batch], axis=0)#append current batch to total output\n",
    "    else:\n",
    "        adv_images = adv_images_batch\n",
    "        "
   ]
  },
  {
   "cell_type": "markdown",
   "metadata": {},
   "source": [
    "# Step 11: Accuracy on adversarial images\n",
    "Now check the accuracy on the modified test images. You should expect to see the accuracy drop dramatically to around 0.11!"
   ]
  },
  {
   "cell_type": "code",
   "execution_count": 19,
   "metadata": {},
   "outputs": [
    {
     "name": "stdout",
     "output_type": "stream",
     "text": [
      "0.1147\n"
     ]
    }
   ],
   "source": [
    "print(sess.run(accuracy, feed_dict={x: adv_images, y: Y_test}))"
   ]
  },
  {
   "cell_type": "markdown",
   "metadata": {},
   "source": [
    "# Step 12: Display sample adversarial images\n",
    "Maybe the reason for such a low accuracy is that the modified test images are unrecognizable after the process? Display a few of them so you can check for yourself..."
   ]
  },
  {
   "cell_type": "code",
   "execution_count": 20,
   "metadata": {},
   "outputs": [
    {
     "data": {
      "image/png": "[encoded data removed]",
      "text/plain": [
       "<Figure size 900x360 with 10 Axes>"
      ]
     },
     "metadata": {},
     "output_type": "display_data"
    }
   ],
   "source": [
    "#get the classification label (digit) given to the adversarial image\n",
    "label_hat = sess.run(tf.argmax(probs, axis=1), feed_dict={x: adv_images, y: Y_test})\n",
    "\n",
    "#show first 10 images in a 2-by-5 grid of subplots\n",
    "\n",
    "nrows = 2\n",
    "ncols = 5\n",
    "fig, axes = plt.subplots(2,5,figsize=(ncols*2.5,nrows*2.5)) #get a new fig and subplot axes\n",
    "fig.subplots_adjust(wspace=.5)  \n",
    "plt.axis('off')\n",
    "for row in range(nrows):\n",
    "    for col in range(ncols):\n",
    "        ax = axes[row,col]#get the axis for the current subplot\n",
    "        img_index = row*ncols + col\n",
    "        img = adv_images[img_index].squeeze()\n",
    "        true_label = Y_test[img_index].argmax()\n",
    "        pred_label = label_hat[img_index]\n",
    "        ax.imshow(img, cmap='gray', interpolation='nearest')\n",
    "        ax.set_title('Pred. {} (true: {})'.format(pred_label, true_label))\n",
    "        ax.set_xticks([]); ax.set_yticks([])\n"
   ]
  },
  {
   "cell_type": "markdown",
   "metadata": {},
   "source": [
    "So, are the digits really unrecognizable after the attack? Or do they pretty much look the same to you?\n",
    "Can you explain why is it that a network with such high accuracy on this dataset could be fooled\n",
    "by this simple noise?"
   ]
  },
  {
   "cell_type": "markdown",
   "metadata": {},
   "source": [
    "\n",
    "The digits are not that unrecognizable. Adding the noise does not prevent me from recognizing the data correctly and they are pretty much the same. \n",
    "\n",
    "Some possible explanations: (a) such an accurate network was greatly overfitted and adding noise increases this effect. (b) a neural network with at least one hidden layer can represent any function to an arbitary degree of accuracy so long as its hidden layer is permitted to have enough units. Shallow linear models are not able to become constant near training points while also assigning different outputs to different training points. (c) individual models have strange quirks but averaging over many models can cause adversarial examples to wash out"
   ]
  },
  {
   "cell_type": "code",
   "execution_count": null,
   "metadata": {},
   "outputs": [],
   "source": []
  }
 ],
 "metadata": {
  "kernelspec": {
   "display_name": "Python 3",
   "language": "python",
   "name": "python3"
  },
  "language_info": {
   "codemirror_mode": {
    "name": "ipython",
    "version": 3
   },
   "file_extension": ".py",
   "mimetype": "text/x-python",
   "name": "python",
   "nbconvert_exporter": "python",
   "pygments_lexer": "ipython3",
   "version": "3.7.3"
  }
 },
 "nbformat": 4,
 "nbformat_minor": 2
}
